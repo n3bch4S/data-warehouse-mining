{
 "cells": [
  {
   "cell_type": "code",
   "execution_count": 1,
   "metadata": {},
   "outputs": [
    {
     "name": "stdout",
     "output_type": "stream",
     "text": [
      "Downloading...\n",
      "From: https://drive.google.com/uc?id=1gj5-HatoF4n6V_RYB2r9vYpeawJvgf2-\n",
      "To: /Users/tada/Documents/GitHub/data-warehouse-mining/src/assgn01_etlAndDataProcessing/ETLDataSource1-286218-17243904498090.xlsx\n",
      "100%|██████████████████████████████████████| 15.3k/15.3k [00:00<00:00, 18.6MB/s]\n",
      "Downloading...\n",
      "From: https://drive.google.com/uc?id=17twDjhPHlpV9ONl_Rekg_BuFLdnZLUnq\n",
      "To: /Users/tada/Documents/GitHub/data-warehouse-mining/src/assgn01_etlAndDataProcessing/ETLDataSource2-286218-17243904776879.xlsx\n",
      "100%|██████████████████████████████████████| 12.7k/12.7k [00:00<00:00, 18.0MB/s]\n"
     ]
    }
   ],
   "source": [
    "!gdown 1gj5-HatoF4n6V_RYB2r9vYpeawJvgf2-\n",
    "!gdown 17twDjhPHlpV9ONl_Rekg_BuFLdnZLUnq"
   ]
  },
  {
   "cell_type": "code",
   "execution_count": 2,
   "metadata": {},
   "outputs": [],
   "source": [
    "import pandas as pd\n",
    "from pandas import DataFrame\n",
    "\n",
    "orderSource1: DataFrame = pd.read_excel(io='ETLDataSource1-286218-17243904498090.xlsx', sheet_name='orderSource1')\n",
    "productSource1: DataFrame = pd.read_excel(io='ETLDataSource1-286218-17243904498090.xlsx', sheet_name='productSource1')\n",
    "stateLookupSource1: DataFrame = pd.read_excel(io='ETLDataSource1-286218-17243904498090.xlsx', sheet_name='StateLookup')\n",
    "\n",
    "orderSource2: DataFrame = pd.read_excel(io='ETLDataSource2-286218-17243904776879.xlsx', sheet_name='orderSource2')\n",
    "productSource2: DataFrame = pd.read_excel(io='ETLDataSource2-286218-17243904776879.xlsx', sheet_name='productSource2')"
   ]
  }
 ],
 "metadata": {
  "kernelspec": {
   "display_name": "Python 3",
   "language": "python",
   "name": "python3"
  },
  "language_info": {
   "codemirror_mode": {
    "name": "ipython",
    "version": 3
   },
   "file_extension": ".py",
   "mimetype": "text/x-python",
   "name": "python",
   "nbconvert_exporter": "python",
   "pygments_lexer": "ipython3",
   "version": "3.12.5"
  }
 },
 "nbformat": 4,
 "nbformat_minor": 2
}
