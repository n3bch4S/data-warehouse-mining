{
 "cells": [
  {
   "cell_type": "code",
   "execution_count": 1,
   "metadata": {},
   "outputs": [
    {
     "name": "stdout",
     "output_type": "stream",
     "text": [
      "Downloading...\n",
      "From: https://drive.google.com/uc?id=1gj5-HatoF4n6V_RYB2r9vYpeawJvgf2-\n",
      "To: /Users/tada/Documents/GitHub/data-warehouse-mining/src/assgn01_etlAndDataProcessing/ETLDataSource1-286218-17243904498090.xlsx\n",
      "100%|██████████████████████████████████████| 15.3k/15.3k [00:00<00:00, 21.5MB/s]\n",
      "Downloading...\n",
      "From: https://drive.google.com/uc?id=17twDjhPHlpV9ONl_Rekg_BuFLdnZLUnq\n",
      "To: /Users/tada/Documents/GitHub/data-warehouse-mining/src/assgn01_etlAndDataProcessing/ETLDataSource2-286218-17243904776879.xlsx\n",
      "100%|██████████████████████████████████████| 12.7k/12.7k [00:00<00:00, 15.7MB/s]\n"
     ]
    }
   ],
   "source": [
    "!gdown 1gj5-HatoF4n6V_RYB2r9vYpeawJvgf2-\n",
    "!gdown 17twDjhPHlpV9ONl_Rekg_BuFLdnZLUnq"
   ]
  },
  {
   "cell_type": "code",
   "execution_count": 2,
   "metadata": {},
   "outputs": [],
   "source": [
    "import pandas as pd\n",
    "from pandas import DataFrame, Series\n",
    "\n",
    "rawOrderSource1: DataFrame = pd.read_excel(io='ETLDataSource1-286218-17243904498090.xlsx', sheet_name='orderSource1')\n",
    "rawProductSource1: DataFrame = pd.read_excel(io='ETLDataSource1-286218-17243904498090.xlsx', sheet_name='productSource1')\n",
    "rawStateLookupSource1: DataFrame = pd.read_excel(io='ETLDataSource1-286218-17243904498090.xlsx', sheet_name='StateLookup')\n",
    "\n",
    "rawOrderSource2: DataFrame = pd.read_excel(io='ETLDataSource2-286218-17243904776879.xlsx', sheet_name='orderSource2')\n",
    "rawProductSource2: DataFrame = pd.read_excel(io='ETLDataSource2-286218-17243904776879.xlsx', sheet_name='productSource2')"
   ]
  },
  {
   "cell_type": "code",
   "execution_count": 3,
   "metadata": {},
   "outputs": [],
   "source": [
    "stateLookup: dict[str, str] = {\n",
    "    abbreviation: stateName\n",
    "    for _, stateName, abbreviation\n",
    "    in rawStateLookupSource1.itertuples()\n",
    "}\n",
    "\n",
    "statusLookup: dict[int, str] = {\n",
    "    1: 'Silver',\n",
    "    2: 'Gold',\n",
    "    3: 'Platinum',\n",
    "}\n",
    "\n",
    "def identity(x):\n",
    "    return x\n",
    "\n",
    "def getFirstName(fullName: str) -> str:\n",
    "    return fullName.split()[0]\n",
    "\n",
    "def getLastName(fullName: str) -> str:\n",
    "    return fullName.split()[-1]\n",
    "\n",
    "def removePrefixA(text: str) -> int:\n",
    "    return int(text.upper().replace('A', ''))\n",
    "\n",
    "namesSource1: DataFrame = (\n",
    "    rawOrderSource1['CustomerName']\n",
    "    .transform(func=[identity, getFirstName, getLastName])\n",
    "    .rename(columns={'identity': 'CustomerName', 'getFirstName': 'CustomerFirstName', 'getLastName': 'CustomerLastName'})\n",
    ")\n",
    "\n",
    "cleanedOrderIdSource2: DataFrame = (\n",
    "    rawOrderSource2['OrderID']\n",
    "    .transform(func=[identity, removePrefixA])\n",
    "    .rename(columns={'identity': 'OrderID', 'removePrefixA': 'newOrderID'})\n",
    ")\n",
    "\n",
    "totalDiscountSource2: Series = (\n",
    "    (rawProductSource2['FullPrice'] - rawProductSource2['ExtendedPrice'])\n",
    "    .rename(index='TotalDiscount')\n",
    ")\n"
   ]
  },
  {
   "cell_type": "code",
   "execution_count": 4,
   "metadata": {},
   "outputs": [],
   "source": [
    "processedSource1: DataFrame = (\n",
    "    rawOrderSource1\n",
    "    .merge(right=rawProductSource1, how='inner', on='OrderID')\n",
    "    .replace(to_replace={'CustomerState': stateLookup})\n",
    "    .merge(right=namesSource1, how='inner', on='CustomerName')\n",
    "    .drop(columns='CustomerName')\n",
    "    .sort_index(axis='columns')\n",
    ")\n",
    "\n",
    "processedSource2: DataFrame = (\n",
    "    rawOrderSource2\n",
    "    .merge(right=rawProductSource2, how='inner', on='OrderID')\n",
    "    .merge(right=cleanedOrderIdSource2, how='inner', on='OrderID')\n",
    "    .drop(columns='OrderID')\n",
    "    .rename(columns={'newOrderID': 'OrderID'})\n",
    "    .replace(to_replace={'CustomerStatus': statusLookup})\n",
    "    .drop(columns='TotalDiscount')\n",
    "    .merge(right=totalDiscountSource2, left_index=True, right_index=True)\n",
    "    .sort_index(axis='columns')\n",
    ")"
   ]
  },
  {
   "cell_type": "code",
   "execution_count": 5,
   "metadata": {},
   "outputs": [],
   "source": [
    "combinedSource: DataFrame = pd.concat([processedSource1, processedSource2])\n",
    "combinedSource['CustomerName'] = combinedSource['CustomerFirstName'] + ' ' + combinedSource['CustomerLastName']\n",
    "combinedSource = (\n",
    "    combinedSource\n",
    "    .drop(columns=['CustomerFirstName', 'CustomerLastName'])\n",
    "    .sort_index(axis='columns')\n",
    ")\n",
    "\n",
    "combinedSource.to_csv(\n",
    "    path_or_buf='pandasEtl.csv',\n",
    "    index=False\n",
    ")"
   ]
  }
 ],
 "metadata": {
  "kernelspec": {
   "display_name": "Python 3",
   "language": "python",
   "name": "python3"
  },
  "language_info": {
   "codemirror_mode": {
    "name": "ipython",
    "version": 3
   },
   "file_extension": ".py",
   "mimetype": "text/x-python",
   "name": "python",
   "nbconvert_exporter": "python",
   "pygments_lexer": "ipython3",
   "version": "3.12.5"
  }
 },
 "nbformat": 4,
 "nbformat_minor": 2
}
